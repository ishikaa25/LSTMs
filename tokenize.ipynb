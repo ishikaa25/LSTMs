{
 "metadata": {
  "language_info": {
   "codemirror_mode": {
    "name": "ipython",
    "version": 3
   },
   "file_extension": ".py",
   "mimetype": "text/x-python",
   "name": "python",
   "nbconvert_exporter": "python",
   "pygments_lexer": "ipython3",
   "version": "3.9.5"
  },
  "orig_nbformat": 4,
  "kernelspec": {
   "name": "python3",
   "display_name": "Python 3.9.5 64-bit ('myenv': conda)"
  },
  "interpreter": {
   "hash": "03dd13d48678367c8c9c8d2bc4e4058efaffff37d2a70d9886c86b6aa2328a71"
  }
 },
 "nbformat": 4,
 "nbformat_minor": 2,
 "cells": [
  {
   "cell_type": "code",
   "execution_count": 1,
   "metadata": {},
   "outputs": [
    {
     "output_type": "stream",
     "name": "stderr",
     "text": [
      "[nltk_data] Downloading package punkt to /home/ishikaa/nltk_data...\n",
      "[nltk_data]   Package punkt is already up-to-date!\n",
      "[nltk_data] Downloading package stopwords to\n",
      "[nltk_data]     /home/ishikaa/nltk_data...\n",
      "[nltk_data]   Package stopwords is already up-to-date!\n"
     ]
    }
   ],
   "source": [
    "from nltk.tokenize import word_tokenize, sent_tokenize, RegexpTokenizer\n",
    "import pandas as pd\n",
    "from contractions import fix\n",
    "from os.path import basename, splitext\n",
    "import glob\n",
    "from preprocess import clean"
   ]
  },
  {
   "cell_type": "code",
   "execution_count": 2,
   "metadata": {},
   "outputs": [],
   "source": [
    "tk = RegexpTokenizer(\"[\\w]+\")"
   ]
  },
  {
   "cell_type": "code",
   "execution_count": 3,
   "metadata": {},
   "outputs": [],
   "source": [
    "res = pd.DataFrame()\n",
    "for file in glob.glob(\"Stories/*.txt\"):\n",
    "    with open(file) as f:\n",
    "        title = f.readline()\n",
    "        textf = \" \".join(line.strip() for line in f)\n",
    "    res = pd.concat([res,pd.DataFrame(data = {\"Title\" : title.strip(), \"Story\" : [textf]})])    "
   ]
  },
  {
   "cell_type": "code",
   "execution_count": 4,
   "metadata": {},
   "outputs": [],
   "source": [
    "res.reset_index(drop=True, inplace=True)"
   ]
  },
  {
   "cell_type": "code",
   "execution_count": 5,
   "metadata": {},
   "outputs": [
    {
     "output_type": "execute_result",
     "data": {
      "text/plain": [
       "                              Title  \\\n",
       "0            Jack and the Beanstalk   \n",
       "1            Little Red Riding Hood   \n",
       "2  Henny-Penny: The Sky is Falling!   \n",
       "3             The Little Match Girl   \n",
       "4                   The Bogey-Beast   \n",
       "\n",
       "                                               Story  \n",
       "0  Once upon a time there lived a poor widow and ...  \n",
       "1  Once upon a time there was a dear little girl ...  \n",
       "2  One day Henny-penny was picking up corn in the...  \n",
       "3  Most terribly cold it was; it snowed, and was ...  \n",
       "4  There was once a woman who was very, very chee...  "
      ],
      "text/html": "<div>\n<style scoped>\n    .dataframe tbody tr th:only-of-type {\n        vertical-align: middle;\n    }\n\n    .dataframe tbody tr th {\n        vertical-align: top;\n    }\n\n    .dataframe thead th {\n        text-align: right;\n    }\n</style>\n<table border=\"1\" class=\"dataframe\">\n  <thead>\n    <tr style=\"text-align: right;\">\n      <th></th>\n      <th>Title</th>\n      <th>Story</th>\n    </tr>\n  </thead>\n  <tbody>\n    <tr>\n      <th>0</th>\n      <td>Jack and the Beanstalk</td>\n      <td>Once upon a time there lived a poor widow and ...</td>\n    </tr>\n    <tr>\n      <th>1</th>\n      <td>Little Red Riding Hood</td>\n      <td>Once upon a time there was a dear little girl ...</td>\n    </tr>\n    <tr>\n      <th>2</th>\n      <td>Henny-Penny: The Sky is Falling!</td>\n      <td>One day Henny-penny was picking up corn in the...</td>\n    </tr>\n    <tr>\n      <th>3</th>\n      <td>The Little Match Girl</td>\n      <td>Most terribly cold it was; it snowed, and was ...</td>\n    </tr>\n    <tr>\n      <th>4</th>\n      <td>The Bogey-Beast</td>\n      <td>There was once a woman who was very, very chee...</td>\n    </tr>\n  </tbody>\n</table>\n</div>"
     },
     "metadata": {},
     "execution_count": 5
    }
   ],
   "source": [
    "res"
   ]
  },
  {
   "cell_type": "code",
   "execution_count": 47,
   "metadata": {},
   "outputs": [],
   "source": [
    "df['Story'] = df['Story'].apply(lambda x: fix(x))"
   ]
  },
  {
   "cell_type": "code",
   "execution_count": 33,
   "metadata": {},
   "outputs": [],
   "source": [
    "# res['Story'] = clean(res['Story'].values)"
   ]
  },
  {
   "cell_type": "code",
   "execution_count": 48,
   "metadata": {},
   "outputs": [],
   "source": [
    "res['Word'] = res['Story'].apply(lambda x: tk.tokenize(x))\n",
    "res['Sent'] = res['Story'].apply(lambda x: sent_tokenize(x))\n",
    "# res['Word_Token'] = res['Story'].apply(lambda x: word_tokenize(x))"
   ]
  },
  {
   "cell_type": "code",
   "execution_count": 35,
   "metadata": {},
   "outputs": [],
   "source": [
    "res.reset_index(drop=True, inplace=True)"
   ]
  },
  {
   "cell_type": "code",
   "execution_count": 49,
   "metadata": {},
   "outputs": [
    {
     "output_type": "execute_result",
     "data": {
      "text/plain": [
       "                              Title  \\\n",
       "0            Jack and the Beanstalk   \n",
       "1            Little Red Riding Hood   \n",
       "2  Henny-Penny: The Sky is Falling!   \n",
       "3             The Little Match Girl   \n",
       "4                   The Bogey-Beast   \n",
       "\n",
       "                                               Story  \\\n",
       "0  Once upon a time there lived a poor widow and ...   \n",
       "1  Once upon a time there was a dear little girl ...   \n",
       "2  One day Henny-penny was picking up corn in the...   \n",
       "3  Most terribly cold it was; it snowed, and was ...   \n",
       "4  There was once a woman who was very, very chee...   \n",
       "\n",
       "                                                Word  \\\n",
       "0  [Once, upon, a, time, there, lived, a, poor, w...   \n",
       "1  [Once, upon, a, time, there, was, a, dear, lit...   \n",
       "2  [One, day, Henny, penny, was, picking, up, cor...   \n",
       "3  [Most, terribly, cold, it, was, it, snowed, an...   \n",
       "4  [There, was, once, a, woman, who, was, very, v...   \n",
       "\n",
       "                                                Sent  \n",
       "0  [Once upon a time there lived a poor widow and...  \n",
       "1  [Once upon a time there was a dear little girl...  \n",
       "2  [One day Henny-penny was picking up corn in th...  \n",
       "3  [Most terribly cold it was; it snowed, and was...  \n",
       "4  [There was once a woman who was very, very che...  "
      ],
      "text/html": "<div>\n<style scoped>\n    .dataframe tbody tr th:only-of-type {\n        vertical-align: middle;\n    }\n\n    .dataframe tbody tr th {\n        vertical-align: top;\n    }\n\n    .dataframe thead th {\n        text-align: right;\n    }\n</style>\n<table border=\"1\" class=\"dataframe\">\n  <thead>\n    <tr style=\"text-align: right;\">\n      <th></th>\n      <th>Title</th>\n      <th>Story</th>\n      <th>Word</th>\n      <th>Sent</th>\n    </tr>\n  </thead>\n  <tbody>\n    <tr>\n      <th>0</th>\n      <td>Jack and the Beanstalk</td>\n      <td>Once upon a time there lived a poor widow and ...</td>\n      <td>[Once, upon, a, time, there, lived, a, poor, w...</td>\n      <td>[Once upon a time there lived a poor widow and...</td>\n    </tr>\n    <tr>\n      <th>1</th>\n      <td>Little Red Riding Hood</td>\n      <td>Once upon a time there was a dear little girl ...</td>\n      <td>[Once, upon, a, time, there, was, a, dear, lit...</td>\n      <td>[Once upon a time there was a dear little girl...</td>\n    </tr>\n    <tr>\n      <th>2</th>\n      <td>Henny-Penny: The Sky is Falling!</td>\n      <td>One day Henny-penny was picking up corn in the...</td>\n      <td>[One, day, Henny, penny, was, picking, up, cor...</td>\n      <td>[One day Henny-penny was picking up corn in th...</td>\n    </tr>\n    <tr>\n      <th>3</th>\n      <td>The Little Match Girl</td>\n      <td>Most terribly cold it was; it snowed, and was ...</td>\n      <td>[Most, terribly, cold, it, was, it, snowed, an...</td>\n      <td>[Most terribly cold it was; it snowed, and was...</td>\n    </tr>\n    <tr>\n      <th>4</th>\n      <td>The Bogey-Beast</td>\n      <td>There was once a woman who was very, very chee...</td>\n      <td>[There, was, once, a, woman, who, was, very, v...</td>\n      <td>[There was once a woman who was very, very che...</td>\n    </tr>\n  </tbody>\n</table>\n</div>"
     },
     "metadata": {},
     "execution_count": 49
    }
   ],
   "source": [
    "res"
   ]
  },
  {
   "cell_type": "code",
   "execution_count": 51,
   "metadata": {},
   "outputs": [],
   "source": [
    "res.to_json('Segmented.json')"
   ]
  },
  {
   "cell_type": "code",
   "execution_count": 4,
   "metadata": {},
   "outputs": [
    {
     "output_type": "execute_result",
     "data": {
      "text/plain": [
       "                              Title  \\\n",
       "0            Jack and the Beanstalk   \n",
       "1            Little Red Riding Hood   \n",
       "2  Henny-Penny: The Sky is Falling!   \n",
       "3             The Little Match Girl   \n",
       "4                   The Bogey-Beast   \n",
       "\n",
       "                                               Story  \\\n",
       "0  Once upon a time there lived a poor widow and ...   \n",
       "1  Once upon a time there was a dear little girl ...   \n",
       "2  One day Henny-penny was picking up corn in the...   \n",
       "3  Most terribly cold it was; it snowed, and was ...   \n",
       "4  There was once a woman who was very, very chee...   \n",
       "\n",
       "                                                Word  \\\n",
       "0  ['Once', 'upon', 'a', 'time', 'there', 'lived'...   \n",
       "1  ['Once', 'upon', 'a', 'time', 'there', 'was', ...   \n",
       "2  ['One', 'day', 'Henny', 'penny', 'was', 'picki...   \n",
       "3  ['Most', 'terribly', 'cold', 'it', 'was', 'it'...   \n",
       "4  ['There', 'was', 'once', 'a', 'woman', 'who', ...   \n",
       "\n",
       "                                                Sent  \n",
       "0  ['Once upon a time there lived a poor widow an...  \n",
       "1  ['Once upon a time there was a dear little gir...  \n",
       "2  ['One day Henny-penny was picking up corn in t...  \n",
       "3  ['Most terribly cold it was; it snowed, and wa...  \n",
       "4  ['There was once a woman who was very, very ch...  "
      ],
      "text/html": "<div>\n<style scoped>\n    .dataframe tbody tr th:only-of-type {\n        vertical-align: middle;\n    }\n\n    .dataframe tbody tr th {\n        vertical-align: top;\n    }\n\n    .dataframe thead th {\n        text-align: right;\n    }\n</style>\n<table border=\"1\" class=\"dataframe\">\n  <thead>\n    <tr style=\"text-align: right;\">\n      <th></th>\n      <th>Title</th>\n      <th>Story</th>\n      <th>Word</th>\n      <th>Sent</th>\n    </tr>\n  </thead>\n  <tbody>\n    <tr>\n      <th>0</th>\n      <td>Jack and the Beanstalk</td>\n      <td>Once upon a time there lived a poor widow and ...</td>\n      <td>['Once', 'upon', 'a', 'time', 'there', 'lived'...</td>\n      <td>['Once upon a time there lived a poor widow an...</td>\n    </tr>\n    <tr>\n      <th>1</th>\n      <td>Little Red Riding Hood</td>\n      <td>Once upon a time there was a dear little girl ...</td>\n      <td>['Once', 'upon', 'a', 'time', 'there', 'was', ...</td>\n      <td>['Once upon a time there was a dear little gir...</td>\n    </tr>\n    <tr>\n      <th>2</th>\n      <td>Henny-Penny: The Sky is Falling!</td>\n      <td>One day Henny-penny was picking up corn in the...</td>\n      <td>['One', 'day', 'Henny', 'penny', 'was', 'picki...</td>\n      <td>['One day Henny-penny was picking up corn in t...</td>\n    </tr>\n    <tr>\n      <th>3</th>\n      <td>The Little Match Girl</td>\n      <td>Most terribly cold it was; it snowed, and was ...</td>\n      <td>['Most', 'terribly', 'cold', 'it', 'was', 'it'...</td>\n      <td>['Most terribly cold it was; it snowed, and wa...</td>\n    </tr>\n    <tr>\n      <th>4</th>\n      <td>The Bogey-Beast</td>\n      <td>There was once a woman who was very, very chee...</td>\n      <td>['There', 'was', 'once', 'a', 'woman', 'who', ...</td>\n      <td>['There was once a woman who was very, very ch...</td>\n    </tr>\n  </tbody>\n</table>\n</div>"
     },
     "metadata": {},
     "execution_count": 4
    }
   ],
   "source": [
    "df = pd.read_csv('Segmented.csv')\n",
    "df"
   ]
  },
  {
   "cell_type": "code",
   "execution_count": 5,
   "metadata": {},
   "outputs": [
    {
     "output_type": "execute_result",
     "data": {
      "text/plain": [
       "                              Title  \\\n",
       "0            Jack and the Beanstalk   \n",
       "1            Little Red Riding Hood   \n",
       "2  Henny-Penny: The Sky is Falling!   \n",
       "3             The Little Match Girl   \n",
       "4                   The Bogey-Beast   \n",
       "\n",
       "                                               Story  \\\n",
       "0  Once upon a time there lived a poor widow and ...   \n",
       "1  Once upon a time there was a dear little girl ...   \n",
       "2  One day Henny-penny was picking up corn in the...   \n",
       "3  Most terribly cold it was; it snowed, and was ...   \n",
       "4  There was once a woman who was very, very chee...   \n",
       "\n",
       "                                                Word  \\\n",
       "0  [Once, upon, a, time, there, lived, a, poor, w...   \n",
       "1  [Once, upon, a, time, there, was, a, dear, lit...   \n",
       "2  [One, day, Henny, penny, was, picking, up, cor...   \n",
       "3  [Most, terribly, cold, it, was, it, snowed, an...   \n",
       "4  [There, was, once, a, woman, who, was, very, v...   \n",
       "\n",
       "                                                Sent  \n",
       "0  [Once upon a time there lived a poor widow and...  \n",
       "1  [Once upon a time there was a dear little girl...  \n",
       "2  [One day Henny-penny was picking up corn in th...  \n",
       "3  [Most terribly cold it was; it snowed, and was...  \n",
       "4  [There was once a woman who was very, very che...  "
      ],
      "text/html": "<div>\n<style scoped>\n    .dataframe tbody tr th:only-of-type {\n        vertical-align: middle;\n    }\n\n    .dataframe tbody tr th {\n        vertical-align: top;\n    }\n\n    .dataframe thead th {\n        text-align: right;\n    }\n</style>\n<table border=\"1\" class=\"dataframe\">\n  <thead>\n    <tr style=\"text-align: right;\">\n      <th></th>\n      <th>Title</th>\n      <th>Story</th>\n      <th>Word</th>\n      <th>Sent</th>\n    </tr>\n  </thead>\n  <tbody>\n    <tr>\n      <th>0</th>\n      <td>Jack and the Beanstalk</td>\n      <td>Once upon a time there lived a poor widow and ...</td>\n      <td>[Once, upon, a, time, there, lived, a, poor, w...</td>\n      <td>[Once upon a time there lived a poor widow and...</td>\n    </tr>\n    <tr>\n      <th>1</th>\n      <td>Little Red Riding Hood</td>\n      <td>Once upon a time there was a dear little girl ...</td>\n      <td>[Once, upon, a, time, there, was, a, dear, lit...</td>\n      <td>[Once upon a time there was a dear little girl...</td>\n    </tr>\n    <tr>\n      <th>2</th>\n      <td>Henny-Penny: The Sky is Falling!</td>\n      <td>One day Henny-penny was picking up corn in the...</td>\n      <td>[One, day, Henny, penny, was, picking, up, cor...</td>\n      <td>[One day Henny-penny was picking up corn in th...</td>\n    </tr>\n    <tr>\n      <th>3</th>\n      <td>The Little Match Girl</td>\n      <td>Most terribly cold it was; it snowed, and was ...</td>\n      <td>[Most, terribly, cold, it, was, it, snowed, an...</td>\n      <td>[Most terribly cold it was; it snowed, and was...</td>\n    </tr>\n    <tr>\n      <th>4</th>\n      <td>The Bogey-Beast</td>\n      <td>There was once a woman who was very, very chee...</td>\n      <td>[There, was, once, a, woman, who, was, very, v...</td>\n      <td>[There was once a woman who was very, very che...</td>\n    </tr>\n  </tbody>\n</table>\n</div>"
     },
     "metadata": {},
     "execution_count": 5
    }
   ],
   "source": [
    "df = pd.read_json('Segmented.json')\n",
    "df"
   ]
  },
  {
   "cell_type": "code",
   "execution_count": 7,
   "metadata": {},
   "outputs": [],
   "source": [
    "from nltk.tokenize import sent_tokenize, RegexpTokenizer\n",
    "import pandas as pd\n",
    "from contractions import fix\n",
    "from os.path import basename, splitext\n",
    "import glob\n",
    "from preprocess import clean\n",
    "\n",
    "#Initialize tokenizer (for word segmentation only)\n",
    "tk = RegexpTokenizer(\"[\\w]+\")\n",
    "\n",
    "#Make dataframe containting short stories (Cols- Title, Story)\n",
    "df = pd.DataFrame()\n",
    "for file in glob.glob(\"*.txt\"):\n",
    "    with open(file) as f:\n",
    "        title = f.readline()\n",
    "        textf = \" \".join(line.strip() for line in f)\n",
    "    df = pd.concat([df,pd.DataFrame(data = {\"Title\" : title.strip(), \"Story\" : [textf]})])  \n",
    "\n",
    "df.reset_index(drop=True, inplace=True)\n",
    "\n",
    "#Fix contractions\n",
    "df['Story'] = df['Story'].apply(lambda x: fix(x))\n",
    "#Word-segmentation\n",
    "df['Word'] = df['Story'].apply(lambda x: tk.tokenize(x))\n",
    "#Sentence-segmentation\n",
    "df['Sent'] = df['Story'].apply(lambda x: sent_tokenize(x))\n",
    "\n",
    "#Saving as .csv and .json\n",
    "df.to_json('Segmented.json')\n",
    "df.to_csv('Segmented.csv',index = False)"
   ]
  },
  {
   "cell_type": "code",
   "execution_count": null,
   "metadata": {},
   "outputs": [],
   "source": []
  }
 ]
}